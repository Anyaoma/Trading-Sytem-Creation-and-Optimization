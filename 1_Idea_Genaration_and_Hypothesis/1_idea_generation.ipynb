{
 "cells": [
  {
   "cell_type": "markdown",
   "id": "d29119cd",
   "metadata": {},
   "source": [
    "# Idea Generation and Hypothesis"
   ]
  },
  {
   "cell_type": "markdown",
   "id": "97a4cd60",
   "metadata": {},
   "source": [
    "This notebook outlines the hypothesis generation for a unique trading strategy based on volatility compression and mean-reversion breakouts."
   ]
  },
  {
   "cell_type": "markdown",
   "id": "707b01dd",
   "metadata": {},
   "source": [
    "## Hypothesis"
   ]
  },
  {
   "cell_type": "markdown",
   "id": "735a150e",
   "metadata": {},
   "source": [
    "We hypothesize that periods of low volatility followed by sudden breakouts yield predictive power for short-term mean reversion."
   ]
  },
  {
   "cell_type": "markdown",
   "id": "c9d1ebc6",
   "metadata": {},
   "source": [
    "## Initial Rules"
   ]
  },
  {
   "cell_type": "markdown",
   "id": "cf5cdc9a",
   "metadata": {},
   "source": [
    "- Identify periods with low ATR (14-day percentile < 20%)\n",
    "- Look for breakout candles with large volume\n",
    "- Entry: Counter-trend limit orders near breakout extremes\n",
    "- Exit: Fixed reward-to-risk or reversion to mean"
   ]
  }
 ],
 "metadata": {},
 "nbformat": 4,
 "nbformat_minor": 5
}