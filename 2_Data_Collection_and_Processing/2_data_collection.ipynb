{
 "cells": [
  {
   "cell_type": "markdown",
   "id": "6f4c9be6",
   "metadata": {},
   "source": [
    "# Data Collection and Processing"
   ]
  },
  {
   "cell_type": "markdown",
   "id": "405b5187",
   "metadata": {},
   "source": [
    "In this notebook, we collect OHLCV data and engineer features necessary for our hypothesis."
   ]
  },
  {
   "cell_type": "markdown",
   "id": "d197b0a5",
   "metadata": {},
   "source": [
    "## Tasks"
   ]
  },
  {
   "cell_type": "markdown",
   "id": "0fc644f7",
   "metadata": {},
   "source": [
    "- Download historical data for SPY or QQQ\n",
    "- Calculate ATR, RSI, Bollinger Band width, and volume surge\n",
    "- Label volatility regimes and breakout days"
   ]
  }
 ],
 "metadata": {},
 "nbformat": 4,
 "nbformat_minor": 5
}